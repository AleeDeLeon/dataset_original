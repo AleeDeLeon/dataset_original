{
  "nbformat": 4,
  "nbformat_minor": 0,
  "metadata": {
    "colab": {
      "provenance": []
    },
    "kernelspec": {
      "name": "python3",
      "display_name": "Python 3"
    },
    "language_info": {
      "name": "python"
    }
  },
  "cells": [
    {
      "cell_type": "code",
      "source": [
        "!pip install thefuzz[speedup]\n",
        "\n",
        "import pandas as pd\n",
        "from thefuzz import process\n",
        "from google.colab import files\n",
        "\n",
        "# 📌 1. Leer el archivo con la codificación correcta\n",
        "df = pd.read_csv(\"/content/dataset_original.csv\", encoding='utf-8')\n",
        "\n",
        "# 📌 2. Limpiar nombres de columnas (por si tienen espacios)\n",
        "df.columns = df.columns.str.strip()\n",
        "\n",
        "# 📌 3. Eliminar filas con valores faltantes en columnas clave\n",
        "df = df.dropna(subset=['Producto', 'Categoria', 'Cliente', 'Fecha', 'Cantidad', 'Precio', 'Tienda', 'Ciudad'])\n",
        "\n",
        "# 📌 4. Convertir fecha\n",
        "df['Fecha'] = pd.to_datetime(df['Fecha'], errors='coerce')\n",
        "df = df.dropna(subset=['Fecha'])\n",
        "\n",
        "# 📌 5. Eliminar precios y cantidades inválidas\n",
        "df = df[df['Precio'] > 0]\n",
        "df = df[df['Cantidad'] > 0]\n",
        "\n",
        "# 📌 6. Eliminar duplicados\n",
        "df = df.drop_duplicates(subset=['ID_Venta'])\n",
        "\n",
        "# 📌 7. Normalizar columnas de texto\n",
        "cols_texto = ['Producto', 'Categoria', 'Cliente', 'Tienda', 'Ciudad']\n",
        "for col in cols_texto:\n",
        "    df[col] = df[col].astype(str).str.lower().str.strip()\n",
        "\n",
        "# 📌 8. Lista de productos válidos\n",
        "productos_validos = ['bota', 'camisa', 'carpeta', 'cuaderno', 'falda', 'mochila', 'monitor', 'mouse', 'pantalla', 'pluma', 'sandalia', 'sueter', 'teclado', 'tenis', 'usb', 'zapato' ]\n",
        "\n",
        "# 📌 9. Corregir errores con thefuzz\n",
        "def corregir_producto(palabra):\n",
        "    mejor_match, score = process.extractOne(palabra, productos_validos)\n",
        "    if score >= 85:\n",
        "        return mejor_match\n",
        "    else:\n",
        "        return palabra\n",
        "\n",
        "df['Producto'] = df['Producto'].apply(corregir_producto)\n",
        "\n",
        "# 📌 10. Capitalizar texto final\n",
        "for col in cols_texto:\n",
        "    df[col] = df[col].str.title()\n",
        "\n",
        "# ✅ 11. Guardar como archivo Excel (.xlsx) para evitar errores de codificación\n",
        "df.to_excel(\"/content/ventas_limpio.xlsx\", index=False)\n",
        "\n",
        "# ✅ 12. Descargar el archivo limpio en Excel\n",
        "files.download(\"/content/ventas_limpio.xlsx\")\n",
        "\n",
        "print(\"🎉 Dataset limpio guardado y descargado como Excel (.xlsx)\")"
      ],
      "metadata": {
        "colab": {
          "base_uri": "https://localhost:8080/",
          "height": 124
        },
        "id": "XvvBrssQ8IsM",
        "outputId": "627f6122-57ce-4324-baa9-50b5867b53d7"
      },
      "execution_count": 8,
      "outputs": [
        {
          "output_type": "stream",
          "name": "stdout",
          "text": [
            "Requirement already satisfied: thefuzz[speedup] in /usr/local/lib/python3.12/dist-packages (0.22.1)\n",
            "Requirement already satisfied: rapidfuzz<4.0.0,>=3.0.0 in /usr/local/lib/python3.12/dist-packages (from thefuzz[speedup]) (3.14.1)\n"
          ]
        },
        {
          "output_type": "stream",
          "name": "stderr",
          "text": [
            "/tmp/ipython-input-2611494894.py:17: UserWarning: Parsing dates in %d/%m/%Y format when dayfirst=False (the default) was specified. Pass `dayfirst=True` or specify a format to silence this warning.\n",
            "  df['Fecha'] = pd.to_datetime(df['Fecha'], errors='coerce')\n"
          ]
        },
        {
          "output_type": "display_data",
          "data": {
            "text/plain": [
              "<IPython.core.display.Javascript object>"
            ],
            "application/javascript": [
              "\n",
              "    async function download(id, filename, size) {\n",
              "      if (!google.colab.kernel.accessAllowed) {\n",
              "        return;\n",
              "      }\n",
              "      const div = document.createElement('div');\n",
              "      const label = document.createElement('label');\n",
              "      label.textContent = `Downloading \"${filename}\": `;\n",
              "      div.appendChild(label);\n",
              "      const progress = document.createElement('progress');\n",
              "      progress.max = size;\n",
              "      div.appendChild(progress);\n",
              "      document.body.appendChild(div);\n",
              "\n",
              "      const buffers = [];\n",
              "      let downloaded = 0;\n",
              "\n",
              "      const channel = await google.colab.kernel.comms.open(id);\n",
              "      // Send a message to notify the kernel that we're ready.\n",
              "      channel.send({})\n",
              "\n",
              "      for await (const message of channel.messages) {\n",
              "        // Send a message to notify the kernel that we're ready.\n",
              "        channel.send({})\n",
              "        if (message.buffers) {\n",
              "          for (const buffer of message.buffers) {\n",
              "            buffers.push(buffer);\n",
              "            downloaded += buffer.byteLength;\n",
              "            progress.value = downloaded;\n",
              "          }\n",
              "        }\n",
              "      }\n",
              "      const blob = new Blob(buffers, {type: 'application/binary'});\n",
              "      const a = document.createElement('a');\n",
              "      a.href = window.URL.createObjectURL(blob);\n",
              "      a.download = filename;\n",
              "      div.appendChild(a);\n",
              "      a.click();\n",
              "      div.remove();\n",
              "    }\n",
              "  "
            ]
          },
          "metadata": {}
        },
        {
          "output_type": "display_data",
          "data": {
            "text/plain": [
              "<IPython.core.display.Javascript object>"
            ],
            "application/javascript": [
              "download(\"download_ad9b17e4-7cb5-48c2-83e0-72f9cf89721d\", \"ventas_limpio.xlsx\", 2926471)"
            ]
          },
          "metadata": {}
        },
        {
          "output_type": "stream",
          "name": "stdout",
          "text": [
            "🎉 Dataset limpio guardado y descargado como Excel (.xlsx)\n"
          ]
        }
      ]
    }
  ]
}